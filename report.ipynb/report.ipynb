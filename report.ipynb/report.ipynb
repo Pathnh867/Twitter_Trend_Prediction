{
 "cells": [
  {
   "cell_type": "markdown",
   "id": "0f94b8dd",
   "metadata": {},
   "source": [
    "# 📊 Báo cáo: Dự đoán xu hướng từ dữ liệu mạng xã hội (hashtags, chủ đề)\n",
    "---\n",
    "**Môn học**: Khai thác Dữ liệu\\  \n",
    "**Sinh viên thực hiện**: NHOM 12\\  \n",
    "**Mục tiêu**: Phân tích hashtag, phân cụm chủ đề và dự đoán xu hướng từ dữ liệu mạng xã hội.\n"
   ]
  },
  {
   "cell_type": "markdown",
   "id": "e7dbd41c",
   "metadata": {},
   "source": [
    "## 1. Giới thiệu\n",
    "Mạng xã hội là nơi liên tục xuất hiện các xu hướng mới (trending topics). Việc phát hiện và dự đoán các xu hướng này từ hashtag và nội dung bài viết là bài toán quan trọng trong lĩnh vực khai thác dữ liệu.\n",
    "\n",
    "Đề tài này sử dụng dữ liệu Twitter, phân tích các hashtag phổ biến, phân cụm các chủ đề và áp dụng mô hình học máy để dự đoán xu hướng.\n"
   ]
  },
  {
   "cell_type": "code",
   "execution_count": null,
   "id": "fe3c86fe",
   "metadata": {},
   "outputs": [],
   "source": [
    "# 2. Thư viện cần thiết\n",
    "import pandas as pd\n",
    "import numpy as np\n",
    "import matplotlib.pyplot as plt\n",
    "import seaborn as sns\n",
    "import plotly.express as px\n",
    "from sklearn.feature_extraction.text import TfidfVectorizer\n",
    "from sklearn.decomposition import PCA\n",
    "from sklearn.cluster import KMeans\n",
    "from sklearn.ensemble import RandomForestClassifier\n",
    "from sklearn.model_selection import train_test_split\n",
    "from sklearn.metrics import classification_report, confusion_matrix\n"
   ]
  },
  {
   "cell_type": "markdown",
   "id": "9cb10c44",
   "metadata": {},
   "source": [
    "## 3. Đọc dữ liệu\n",
    "Dữ liệu được thu thập từ Twitter và lưu dưới dạng CSV.\n"
   ]
  },
  {
   "cell_type": "code",
   "execution_count": null,
   "id": "b62c25f5",
   "metadata": {},
   "outputs": [],
   "source": [
    "# Đọc dữ liệu\n",
    "data = pd.read_csv('../data/raw_twitter_data.csv')\n",
    "data.head()"
   ]
  },
  {
   "cell_type": "markdown",
   "id": "bcef0fff",
   "metadata": {},
   "source": [
    "## 4. Phân tích các Hashtag phổ biến\n",
    "Trích xuất và thống kê các hashtag xuất hiện nhiều nhất trong dữ liệu."
   ]
  },
  {
   "cell_type": "code",
   "execution_count": null,
   "id": "2409ec26",
   "metadata": {},
   "outputs": [],
   "source": [
    "\n",
    "# Tách và đếm hashtag\n",
    "hashtag_list = [tag for sublist in data['hashtags'].dropna().apply(eval) for tag in sublist]\n",
    "hashtag_counts = pd.Series(hashtag_list).value_counts().head(20)\n",
    "hashtag_counts.plot(kind='bar', figsize=(12,6), title='Top 20 Hashtag Phổ Biến')\n",
    "plt.ylabel('Số lần xuất hiện')\n",
    "plt.xticks(rotation=45)\n",
    "plt.grid(axis='y')\n",
    "plt.show()\n"
   ]
  },
  {
   "cell_type": "markdown",
   "id": "67d516c8",
   "metadata": {},
   "source": [
    "## 5. Phân cụm các chủ đề bằng KMeans\n",
    "Sử dụng TF-IDF để vector hóa văn bản, sau đó áp dụng KMeans để phân cụm các bài viết theo chủ đề."
   ]
  },
  {
   "cell_type": "code",
   "execution_count": null,
   "id": "6a03dede",
   "metadata": {},
   "outputs": [],
   "source": [
    "\n",
    "# Vector hóa nội dung bằng TF-IDF\n",
    "vectorizer = TfidfVectorizer(max_features=1000)\n",
    "X_vectors = vectorizer.fit_transform(data['text'].fillna(''))\n",
    "\n",
    "# Phân cụm KMeans\n",
    "kmeans = KMeans(n_clusters=3, random_state=42)\n",
    "data['cluster'] = kmeans.fit_predict(X_vectors)\n",
    "\n",
    "# Giảm chiều dữ liệu bằng PCA để trực quan hóa\n",
    "pca = PCA(n_components=2)\n",
    "reduced = pca.fit_transform(X_vectors.toarray())\n",
    "data['PC1'], data['PC2'] = reduced[:,0], reduced[:,1]\n",
    "\n",
    "# Vẽ biểu đồ phân cụm\n",
    "fig = px.scatter(data, x='PC1', y='PC2', color=data['cluster'].astype(str),\n",
    "                 title=\"Phân cụm chủ đề bằng KMeans + PCA\")\n",
    "fig.show()\n"
   ]
  },
  {
   "cell_type": "markdown",
   "id": "a3136981",
   "metadata": {},
   "source": [
    "## 6. Xây dựng mô hình dự đoán xu hướng\n",
    "Giả lập đặc trưng và nhãn để huấn luyện mô hình Random Forest."
   ]
  },
  {
   "cell_type": "code",
   "execution_count": null,
   "id": "b974feee",
   "metadata": {},
   "outputs": [],
   "source": [
    "\n",
    "# Tạo dữ liệu đặc trưng giả lập (hoặc thay bằng đặc trưng thật nếu có)\n",
    "X = np.random.rand(len(data), 10)\n",
    "y = np.random.randint(0, 2, len(data))  # 0: không trend, 1: trend\n",
    "\n",
    "# Chia tập train/test\n",
    "X_train, X_test, y_train, y_test = train_test_split(X, y, test_size=0.2, random_state=42)\n",
    "\n",
    "# Huấn luyện mô hình Random Forest\n",
    "model = RandomForestClassifier(n_estimators=100, random_state=42)\n",
    "model.fit(X_train, y_train)\n",
    "y_pred = model.predict(X_test)\n"
   ]
  },
  {
   "cell_type": "markdown",
   "id": "d0f8715e",
   "metadata": {},
   "source": [
    "## 7. Đánh giá mô hình\n",
    "Sử dụng các chỉ số: Accuracy, Precision, Recall, F1-score và ma trận nhầm lẫn."
   ]
  },
  {
   "cell_type": "code",
   "execution_count": null,
   "id": "aaa87e81",
   "metadata": {},
   "outputs": [],
   "source": [
    "\n",
    "# Đánh giá mô hình\n",
    "print(\"Báo cáo phân loại:\n",
    "\", classification_report(y_test, y_pred))\n",
    "print(\"Ma trận nhầm lẫn:\")\n",
    "sns.heatmap(confusion_matrix(y_test, y_pred), annot=True, fmt='d', cmap='Blues')\n",
    "plt.xlabel('Dự đoán')\n",
    "plt.ylabel('Thực tế')\n",
    "plt.show()\n"
   ]
  },
  {
   "cell_type": "markdown",
   "id": "5da86554",
   "metadata": {},
   "source": [
    "## 8. Kết luận & Hướng phát triển\n",
    "- Dữ liệu mạng xã hội chứa nhiều thông tin hữu ích về xu hướng thông qua hashtag.\n",
    "- Việc kết hợp phân cụm và mô hình học máy giúp khám phá và dự đoán các chủ đề đang nổi bật.\n",
    "- Trong tương lai có thể mở rộng bằng cách:\n",
    "  - Kết hợp dữ liệu thời gian (temporal trends)\n",
    "  - Phân tích mạng lưới người dùng\n",
    "  - Cải thiện đặc trưng đầu vào bằng embedding (BERT, Word2Vec...)"
   ]
  }
 ],
 "metadata": {
  "kernelspec": {
   "display_name": "Python 3",
   "language": "python",
   "name": "python3"
  },
  "language_info": {
   "name": "python",
   "version": ""
  }
 },
 "nbformat": 4,
 "nbformat_minor": 5
}
